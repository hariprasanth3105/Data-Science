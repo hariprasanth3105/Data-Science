{
 "cells": [
  {
   "cell_type": "markdown",
   "id": "cf09eeba-87f6-49d6-b267-f14a9f74d109",
   "metadata": {},
   "source": [
    "# Data Science Tools and Ecosystem"
   ]
  },
  {
   "cell_type": "markdown",
   "id": "46874fb6-1124-4c7c-b694-f7d2f2c6b2b5",
   "metadata": {},
   "source": [
    "## In this notebook, Data Science Tools and Ecosystem are summarized."
   ]
  },
  {
   "cell_type": "markdown",
   "id": "ef599675-0d35-4cab-920f-6c6bb56072e0",
   "metadata": {},
   "source": [
    "#### **Objectives:** \n",
    "* Popular languages\n",
    "* Libraries\n",
    "* Data Science Tools Table\n",
    "* Examples of Arithmetic expressions\n"
   ]
  },
  {
   "cell_type": "markdown",
   "id": "9d756768-f296-44a3-9c30-c5b525d9fc4e",
   "metadata": {},
   "source": [
    "### Some of the popular languages that Data Scientists use are:\r",
    "1. Python\n",
    "2. R\n",
    "3. Javat"
   ]
  },
  {
   "cell_type": "markdown",
   "id": "4c8d69a4-2b60-4868-9c9c-b3646c6a9e35",
   "metadata": {},
   "source": [
    "### Some of the commonly used libraries used by Data Scientists include:\n",
    "1. NumPy\n",
    "2. Pandas\n",
    "3. Matplotlib\n",
    "4. Seaborn"
   ]
  },
  {
   "cell_type": "markdown",
   "id": "4783ea6f-ba93-448f-8880-5cb43e1c44b9",
   "metadata": {},
   "source": [
    "| **Data Science Tools**              |\r\n",
    "|----------------------------------|\r\n",
    "| Jupyter Notebook                 |\r\n",
    "| RStudio                          |\r\n",
    "| Spyder                           |\r\n"
   ]
  },
  {
   "cell_type": "markdown",
   "id": "da5a9d07-5507-4af1-b28a-49ef76ff5faa",
   "metadata": {},
   "source": [
    "\n"
   ]
  },
  {
   "cell_type": "markdown",
   "id": "0cee696c-fb86-45ef-9f1a-8f5d05f23f74",
   "metadata": {},
   "source": [
    "### Below are a few examples of evaluating arithmetic expressions in Python.\n"
   ]
  },
  {
   "cell_type": "code",
   "execution_count": 25,
   "id": "010ce79e-5a54-450e-b620-73bdd63fadb3",
   "metadata": {},
   "outputs": [
    {
     "data": {
      "text/plain": [
       "17"
      ]
     },
     "execution_count": 25,
     "metadata": {},
     "output_type": "execute_result"
    }
   ],
   "source": [
    "# This is a simple arithmetic expression to multiply then add integers.\n",
    "(3 * 4) + 5"
   ]
  },
  {
   "cell_type": "code",
   "execution_count": 29,
   "id": "3ded07da-8c19-4684-ba07-416cde301ccf",
   "metadata": {},
   "outputs": [
    {
     "name": "stdout",
     "output_type": "stream",
     "text": [
      "3.3333333333333335 hrs\n"
     ]
    }
   ],
   "source": [
    "#This will convert 200 minutes to hours by diving by 60\n",
    "print(200/60,'hrs')"
   ]
  },
  {
   "cell_type": "markdown",
   "id": "86bdf298-c2ac-44de-a1a8-6f84f45948fa",
   "metadata": {},
   "source": [
    "## Author\n",
    "Hari Prasanth\n"
   ]
  },
  {
   "cell_type": "code",
   "execution_count": null,
   "id": "7630ed18-7abc-417d-b8ce-4dbce4daf26d",
   "metadata": {},
   "outputs": [],
   "source": []
  }
 ],
 "metadata": {
  "kernelspec": {
   "display_name": "Python 3 (ipykernel)",
   "language": "python",
   "name": "python3"
  },
  "language_info": {
   "codemirror_mode": {
    "name": "ipython",
    "version": 3
   },
   "file_extension": ".py",
   "mimetype": "text/x-python",
   "name": "python",
   "nbconvert_exporter": "python",
   "pygments_lexer": "ipython3",
   "version": "3.12.4"
  }
 },
 "nbformat": 4,
 "nbformat_minor": 5
}
